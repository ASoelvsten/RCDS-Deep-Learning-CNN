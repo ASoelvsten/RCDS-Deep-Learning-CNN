{
 "cells": [
  {
   "cell_type": "markdown",
   "id": "level-violation",
   "metadata": {},
   "source": [
    "Run this notebook and roll down to the end (ignoring the code that you will see on the way) to answer an interactive quiz on PyTorch, computer vision and CNNs.\n",
    "\n",
    "<a href =\"#QUIZ\">Go to quiz</a>"
   ]
  },
  {
   "cell_type": "code",
   "execution_count": 1,
   "id": "alive-soldier",
   "metadata": {},
   "outputs": [],
   "source": [
    "import pandas as pd\n",
    "import ipywidgets as widgets\n",
    "from IPython.display import display, clear_output\n",
    "import random\n",
    "\n",
    "# Load quiz data from CSV file\n",
    "quiz_data = pd.read_csv(\"pytorch_quiz_data.csv\")\n",
    "\n",
    "# Shuffle the rows to randomize the order of questions\n",
    "quiz_data = quiz_data.sample(frac=1).reset_index(drop=True)\n",
    "\n",
    "# Initialize variables\n",
    "current_question_index = [0]\n",
    "selected_answer = [None]\n",
    "right_answers_count = [0]\n",
    "wrong_answers_count = [0]\n",
    "\n",
    "# Function to display the current question\n",
    "def display_question():\n",
    "    clear_output()\n",
    "    question_text = quiz_data.loc[current_question_index[0], 'question']\n",
    "    options = quiz_data.loc[current_question_index[0], 'options'].split(',')\n",
    "    random.shuffle(options)  # Randomize the order of options\n",
    "    radio_options = widgets.RadioButtons(options=options, description=\"Options\",layout=widgets.Layout(width='auto', height='auto', overflow_x='auto'))\n",
    "    submit_button = widgets.Button(description='Submit', button_style='info')\n",
    "    next_button = widgets.Button(description='Next', button_style='success', disabled=True)\n",
    "    right_answers_label = widgets.Label(value=f\"Right answers so far: {right_answers_count[0]}\")\n",
    "    wrong_answers_label = widgets.Label(value=f\"Wrong answers so far: {wrong_answers_count[0]}\")\n",
    "    \n",
    "    # Function to handle the submit button click\n",
    "    def submit_button_click(b):\n",
    "        selected_answer[0] = radio_options.value\n",
    "        correct_answer = quiz_data.loc[current_question_index[0], 'correct_answer']\n",
    "        display_answer_feedback(correct_answer)\n",
    "        submit_button.disabled = True\n",
    "        next_button.disabled = False\n",
    "    \n",
    "    # Function to display feedback on the selected answer\n",
    "    def display_answer_feedback(correct_answer):\n",
    "        if selected_answer[0] == correct_answer:\n",
    "            print(\"Correct! Well done.\")\n",
    "            right_answers_count[0] += 1\n",
    "        else:\n",
    "            print(f\"Sorry, the correct answer is: {correct_answer}. Try the next question.\")\n",
    "            wrong_answers_count[0] += 1\n",
    "        \n",
    "        right_answers_label.value = f\"Right answers so far: {right_answers_count[0]}\"\n",
    "        wrong_answers_label.value = f\"Wrong answers so far: {wrong_answers_count[0]}\"\n",
    "    \n",
    "    # Function to handle the next button click\n",
    "    def next_button_click(b):\n",
    "        current_question_index[0] += 1\n",
    "        selected_answer[0] = None\n",
    "        if current_question_index[0] < len(quiz_data):\n",
    "            display_question()\n",
    "        else:\n",
    "            print(\"Quiz completed. Well done!\")\n",
    "            \n",
    "    submit_button.on_click(submit_button_click)\n",
    "    next_button.on_click(next_button_click)\n",
    "    \n",
    "    display(widgets.VBox([widgets.HTML(value=f\"<h3>{question_text}</h3>\"), radio_options, submit_button, next_button, right_answers_label, wrong_answers_label]))"
   ]
  },
  {
   "cell_type": "markdown",
   "id": "decreased-yeast",
   "metadata": {},
   "source": [
    "# QUIZ\n",
    "\n",
    "Please answer each question by choosing one of the four answers listed below it and press \"Submit\". To go to the next question, please press \"Next\". The notebook will keep track of your score."
   ]
  },
  {
   "cell_type": "code",
   "execution_count": 2,
   "id": "ranging-supervisor",
   "metadata": {},
   "outputs": [
    {
     "data": {
      "application/vnd.jupyter.widget-view+json": {
       "model_id": "5b3b68545b08442e8b224b1c407ec0b3",
       "version_major": 2,
       "version_minor": 0
      },
      "text/plain": [
       "VBox(children=(HTML(value='<h3>What is the purpose of the Batch Normalization layer in a neural network?</h3>'…"
      ]
     },
     "metadata": {},
     "output_type": "display_data"
    },
    {
     "name": "stdout",
     "output_type": "stream",
     "text": [
      "Sorry, the correct answer is: Improves convergence during training. Try the next question.\n"
     ]
    }
   ],
   "source": [
    "# Initial display of the first question\n",
    "display_question()"
   ]
  }
 ],
 "metadata": {
  "kernelspec": {
   "display_name": "Python 3",
   "language": "python",
   "name": "python3"
  },
  "language_info": {
   "codemirror_mode": {
    "name": "ipython",
    "version": 3
   },
   "file_extension": ".py",
   "mimetype": "text/x-python",
   "name": "python",
   "nbconvert_exporter": "python",
   "pygments_lexer": "ipython3",
   "version": "3.6.9"
  }
 },
 "nbformat": 4,
 "nbformat_minor": 5
}
