{
 "cells": [
  {
   "cell_type": "markdown",
   "id": "vietnamese-delivery",
   "metadata": {},
   "source": [
    "# Installing PyTorch"
   ]
  },
  {
   "cell_type": "markdown",
   "id": "industrial-closing",
   "metadata": {},
   "source": [
    "We will run our code in Google Colab. If you do so, there is nothing to install and the scripts will work out of the box. However, you can check this by running the following script in Google Colab."
   ]
  },
  {
   "cell_type": "code",
   "execution_count": null,
   "id": "medieval-combat",
   "metadata": {},
   "outputs": [],
   "source": [
    "try:\n",
    "    import torch\n",
    "    import torchvision\n",
    "    print(f\"PyTorch version: {torch.__version__}\")\n",
    "    print(f\"torchvision version: {torchvision.__version__}\")\n",
    "except ImportError:\n",
    "    print(\"Installing PyTorch and torchvision...\")\n",
    "    !pip install torch torchvision\n",
    "\n",
    "# Ensure the installed versions are up-to-date\n",
    "!pip install torch torchvision --upgrade"
   ]
  },
  {
   "cell_type": "code",
   "execution_count": null,
   "id": "computational-climate",
   "metadata": {},
   "outputs": [],
   "source": []
  }
 ],
 "metadata": {
  "kernelspec": {
   "display_name": "Python 3",
   "language": "python",
   "name": "python3"
  },
  "language_info": {
   "codemirror_mode": {
    "name": "ipython",
    "version": 3
   },
   "file_extension": ".py",
   "mimetype": "text/x-python",
   "name": "python",
   "nbconvert_exporter": "python",
   "pygments_lexer": "ipython3",
   "version": "3.6.9"
  }
 },
 "nbformat": 4,
 "nbformat_minor": 5
}
