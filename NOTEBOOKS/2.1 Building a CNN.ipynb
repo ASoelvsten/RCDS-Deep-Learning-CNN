{
 "cells": [
  {
   "cell_type": "markdown",
   "id": "macro-globe",
   "metadata": {},
   "source": [
    "# Building our first convolutional neural network"
   ]
  },
  {
   "cell_type": "markdown",
   "id": "accepting-elite",
   "metadata": {},
   "source": [
    "In this example, we follow and build on one of the tutorials on the [homepage of PyTorch]( https://pytorch.org/tutorials/beginner/blitz/cifar10_tutorial.html) and we recommend this resource for delving deeper into the topic.\n",
    "\n",
    "First, we load the libraries that we will need throughout this notebook.\n",
    "\n",
    "1. <a href =\"#Data\">Data</a>\n",
    "2. <a href =\"#Architecture\">Architecture</a>\n",
    "3. <a href =\"#Training\">Training</a>\n",
    "4. <a href =\"#Testing\">Testing</a>"
   ]
  },
  {
   "cell_type": "code",
   "execution_count": 1,
   "id": "blind-fiction",
   "metadata": {},
   "outputs": [],
   "source": [
    "# Needed for image handling\n",
    "import torch\n",
    "import torchvision\n",
    "import torchvision.transforms as transforms\n",
    "# Needed to build CNN\n",
    "import torch.nn as nn\n",
    "import torch.optim as optim\n",
    "# Plotting tools\n",
    "import matplotlib.pyplot as plt\n",
    "import numpy as np\n",
    "import time"
   ]
  },
  {
   "cell_type": "markdown",
   "id": "collect-springfield",
   "metadata": {},
   "source": [
    "## Data\n",
    "\n",
    "In this notebook, we will work with the CIFAR10 dataset, containing thousands of images with 10 different labels (plane, car, bird, cat, deer, dog, frog, horse, ship and truck). Each picture has three channels (RGB) and is 32x32 pixels. Here, we seperately load the test and training data, constructing batches with 32 images each."
   ]
  },
  {
   "cell_type": "code",
   "execution_count": 2,
   "id": "obvious-document",
   "metadata": {},
   "outputs": [
    {
     "name": "stdout",
     "output_type": "stream",
     "text": [
      "Files already downloaded and verified\n",
      "Files already downloaded and verified\n"
     ]
    }
   ],
   "source": [
    "transform = transforms.Compose([transforms.ToTensor(), transforms.Normalize((0.5, 0.5, 0.5), (0.5, 0.5, 0.5))])\n",
    "\n",
    "batch_size = 32\n",
    "\n",
    "trainset = torchvision.datasets.CIFAR10(root='./data', train=True, download=True, transform=transform)\n",
    "testset = torchvision.datasets.CIFAR10(root='./data', train=False, download=True, transform=transform)\n",
    "\n",
    "trainloader = torch.utils.data.DataLoader(trainset, batch_size=batch_size, shuffle=True, num_workers=2)\n",
    "testloader = torch.utils.data.DataLoader(testset, batch_size=batch_size, shuffle=False, num_workers=2)"
   ]
  },
  {
   "cell_type": "markdown",
   "id": "operating-junior",
   "metadata": {},
   "source": [
    "Let's have a look at one of the pictures in the data set."
   ]
  },
  {
   "cell_type": "code",
   "execution_count": 3,
   "id": "running-bhutan",
   "metadata": {},
   "outputs": [
    {
     "data": {
      "image/png": "[encoded data removed]",
      "text/plain": [
       "<Figure size 432x288 with 1 Axes>"
      ]
     },
     "metadata": {
      "needs_background": "light"
     },
     "output_type": "display_data"
    }
   ],
   "source": [
    "plt.imshow(trainset.data[60])\n",
    "plt.show()"
   ]
  },
  {
   "cell_type": "markdown",
   "id": "favorite-restaurant",
   "metadata": {},
   "source": [
    "It's clearly a low resolution picture of a car. The labels in the data are simply the categories 0-9. Let's write labels that are easier for human's to relate to."
   ]
  },
  {
   "cell_type": "code",
   "execution_count": 4,
   "id": "adequate-nickname",
   "metadata": {},
   "outputs": [],
   "source": [
    "classes = ('plane', 'car', 'bird', 'cat', 'deer', 'dog', 'frog', 'horse', 'ship', 'truck')"
   ]
  },
  {
   "cell_type": "markdown",
   "id": "rising-adaptation",
   "metadata": {},
   "source": [
    "**Exercise 2.1.1**: In the code above, the pictures in the training and test sets are all normalised... why?"
   ]
  },
  {
   "cell_type": "markdown",
   "id": "mobile-machine",
   "metadata": {},
   "source": [
    "## Architecture\n",
    "\n",
    "To create a convolutional neural network (CNN), we create a new class, here called CNN. We then initialise the class, inheriting from the parent class (here Module) and defining the necessary components of our architecture. Having initialised the class, we put the components together to define how a forward pass will be executed."
   ]
  },
  {
   "cell_type": "code",
   "execution_count": 5,
   "id": "floral-settle",
   "metadata": {},
   "outputs": [],
   "source": [
    "# How many 3 times three kernels do we want? \n",
    "# This will determine the dimensions of the output of convolution layers.\n",
    "\n",
    "kernels = 6\n",
    "\n",
    "class CNN(nn.Module):\n",
    "    def __init__(self):\n",
    "        super().__init__() # Inherit from parent class\n",
    "        # Define layers\n",
    "        # First we have a convolutional layer with 3 input channels and 32 output channels\n",
    "        self.conv1 = nn.Conv2d(3, kernels, kernel_size=(3,3), stride=1, padding=1)\n",
    "        self.act1 = nn.ReLU()\n",
    "        self.pool1 = nn.MaxPool2d(2, 2) # Pooling layer\n",
    "        self.conv2 = nn.Conv2d(kernels, kernels, kernel_size=(3,3), stride=1, padding=1)\n",
    "        self.flat = nn.Flatten()\n",
    "        self.fc1 = nn.Linear(kernels*8*8, 120)\n",
    "        self.fc2 = nn.Linear(120, 84)\n",
    "        self.fc3 = nn.Linear(84, 10)\n",
    "\n",
    "    def forward(self, x):\n",
    "        # Build CNN\n",
    "        # input 3x32x32 and output 6x32x32\n",
    "        x = self.act1(self.conv1(x))\n",
    "        # input 6x32x32 and output 6x16x16\n",
    "        x = self.pool1(x)\n",
    "        # input 6x16x16 and output 6x16x16\n",
    "        x = self.act1(self.conv2(x))\n",
    "        # input 6x16x16 and output 6x8x8\n",
    "        x = self.pool1(x)\n",
    "        # We now flatten the feature maps to feed them into the neural network\n",
    "        x = self.flat(x)\n",
    "        x = self.act1(self.fc1(x))\n",
    "        x = self.act1(self.fc2(x))\n",
    "        x = self.fc3(x)\n",
    "        return x"
   ]
  },
  {
   "cell_type": "markdown",
   "id": "communist-insurance",
   "metadata": {},
   "source": [
    "We can now construct an instance of this class that we can train and apply for predictions."
   ]
  },
  {
   "cell_type": "code",
   "execution_count": 14,
   "id": "enclosed-closure",
   "metadata": {},
   "outputs": [],
   "source": [
    "cnn = CNN()"
   ]
  },
  {
   "cell_type": "markdown",
   "id": "durable-straight",
   "metadata": {},
   "source": [
    "But before we turn to training the network, let's have a look at what the different layers do to the images. Let's start with the first convolution layer."
   ]
  },
  {
   "cell_type": "code",
   "execution_count": 6,
   "id": "asian-orbit",
   "metadata": {},
   "outputs": [
    {
     "data": {
      "image/png": "[encoded data removed]",
      "text/plain": [
       "<Figure size 1152x576 with 6 Axes>"
      ]
     },
     "metadata": {
      "needs_background": "light"
     },
     "output_type": "display_data"
    }
   ],
   "source": [
    "# First, we convert the image of the car into batch with one image\n",
    "X = torch.tensor([trainset.data[60]], dtype=torch.float32).permute(0,3,1,2)\n",
    "# Then we send it through conv1 to see what conv1 does.\n",
    "with torch.no_grad(): # We don't actually need to compute gradients\n",
    "    X = cnn.conv1(X)\n",
    "\n",
    "# Plotting\n",
    "cls = int(np.ceil(kernels/2))\n",
    "fig, axs = plt.subplots(2, cls, sharex=True, sharey=True, figsize=(16,8))\n",
    "for i in range(0, kernels):\n",
    "    row, col = i//cls, i%cls\n",
    "    axs[row][col].imshow(X[0][i])\n",
    "plt.show()"
   ]
  },
  {
   "cell_type": "markdown",
   "id": "every-penguin",
   "metadata": {},
   "source": [
    "**Exercise 2.1.2**: Discuss in the group what the different layers in the CNN (e.g., [Conv2d](https://pytorch.org/docs/stable/generated/torch.nn.Conv2d.html)). Explain the dimensions of the input and output of each layer.\n",
    "\n",
    "**Exercise 2.1.3**: In the network above, one type of activation function is included. Which one? What other types of [activation functions](https://pytorch.org/docs/stable/nn.html#non-linear-activations-weighted-sum-nonlinearity\n",
    ") are there?\n",
    "\n",
    "\n",
    "**Exercise 2.1.4**: Change the code in the cell above to plot the output of the first pooling layer. Rather than passing the images to this layer, you will have to pass the output from conv1. Why?\n",
    "\n"
   ]
  },
  {
   "cell_type": "markdown",
   "id": "annoying-campbell",
   "metadata": {},
   "source": [
    "## Training"
   ]
  },
  {
   "cell_type": "code",
   "execution_count": 7,
   "id": "afraid-colonial",
   "metadata": {},
   "outputs": [],
   "source": [
    "loss_func = nn.CrossEntropyLoss()\n",
    "optimizer = optim.SGD(cnn.parameters(), lr=1e-3, momentum=0.9)"
   ]
  },
  {
   "cell_type": "code",
   "execution_count": 8,
   "id": "wired-decline",
   "metadata": {},
   "outputs": [
    {
     "name": "stdout",
     "output_type": "stream",
     "text": [
      "[1,  1563] loss: 2.279\n",
      "[2,  1563] loss: 1.869\n",
      "[3,  1563] loss: 1.632\n",
      "[4,  1563] loss: 1.498\n",
      "[5,  1563] loss: 1.418\n",
      "[6,  1563] loss: 1.358\n",
      "[7,  1563] loss: 1.310\n",
      "[8,  1563] loss: 1.265\n",
      "[9,  1563] loss: 1.231\n",
      "[10,  1563] loss: 1.195\n",
      "[11,  1563] loss: 1.159\n",
      "[12,  1563] loss: 1.130\n",
      "[13,  1563] loss: 1.101\n",
      "[14,  1563] loss: 1.073\n",
      "[15,  1563] loss: 1.049\n",
      "[16,  1563] loss: 1.026\n",
      "[17,  1563] loss: 1.002\n",
      "[18,  1563] loss: 0.978\n",
      "[19,  1563] loss: 0.957\n",
      "[20,  1563] loss: 0.937\n",
      "Training time 119.84267282485962 seconds\n"
     ]
    }
   ],
   "source": [
    "n_epochs = 20 # loop over the dataset\n",
    "tloss = []\n",
    "start = time.time()\n",
    "batches = np.ceil(len(trainloader.dataset)/batch_size)\n",
    "\n",
    "for epoch in range(n_epochs):\n",
    "    \n",
    "    training_loss = 0.0\n",
    "    for  i, data in enumerate(trainloader, 0):\n",
    "        # get the inputs; data is a list of [inputs, labels]\n",
    "        inputs, labels = data\n",
    "        y_pred = cnn(inputs) # Go through batches of training data\n",
    "        loss = loss_func(y_pred, labels) # Compare output to truth\n",
    "        \n",
    "        optimizer.zero_grad()\n",
    "        \n",
    "        # backward + optimize\n",
    "        loss.backward()\n",
    "        optimizer.step()\n",
    " \n",
    "        training_loss += loss.item()\n",
    "        if i % batches == batches-1:    # print every 2000 mini-batches\n",
    "            print(f'[{epoch + 1}, {i + 1:5d}] loss: {training_loss / batches:.3f}')\n",
    "            tloss.extend([training_loss / batches])\n",
    "            training_loss = 0.0\n",
    "\n",
    "print(\"Training time {} seconds\".format(time.time()-start))"
   ]
  },
  {
   "cell_type": "code",
   "execution_count": 9,
   "id": "surface-clinton",
   "metadata": {},
   "outputs": [
    {
     "data": {
      "image/png": "[encoded data removed]",
      "text/plain": [
       "<Figure size 576x576 with 1 Axes>"
      ]
     },
     "metadata": {
      "needs_background": "light"
     },
     "output_type": "display_data"
    }
   ],
   "source": [
    "plt.figure(figsize=(8,8))\n",
    "plt.plot(tloss)\n",
    "plt.xlabel(\"Epochs\",fontsize=14)\n",
    "plt.ylabel(\"Loss\",fontsize=14)\n",
    "plt.xticks(fontsize=14)\n",
    "plt.yticks(fontsize=14)\n",
    "plt.show()"
   ]
  },
  {
   "cell_type": "markdown",
   "id": "transsexual-pavilion",
   "metadata": {},
   "source": [
    "## Testing"
   ]
  },
  {
   "cell_type": "code",
   "execution_count": 10,
   "id": "insured-cannon",
   "metadata": {},
   "outputs": [],
   "source": [
    "PATH = './cifar10_cnn.pth'\n",
    "torch.save(cnn.state_dict(), PATH)"
   ]
  },
  {
   "cell_type": "code",
   "execution_count": 11,
   "id": "adult-tucson",
   "metadata": {},
   "outputs": [],
   "source": [
    "dataiter = iter(testloader)\n",
    "images, labels = next(dataiter)"
   ]
  },
  {
   "cell_type": "code",
   "execution_count": 12,
   "id": "configured-crowd",
   "metadata": {},
   "outputs": [
    {
     "name": "stdout",
     "output_type": "stream",
     "text": [
      "Predicted:  cat   car   plane plane deer  frog  car   deer  cat   car  \n",
      "Truth:  cat   ship  ship  plane frog  frog  car   frog  cat   car  \n"
     ]
    }
   ],
   "source": [
    "outputs = cnn(images)\n",
    "_, predicted = torch.max(outputs, 1)\n",
    "\n",
    "print('Predicted: ', ' '.join(f'{classes[predicted[j]]:5s}' for j in range(10)))\n",
    "print('Truth: ', ' '.join(f'{classes[labels[j]]:5s}' for j in range(10)))"
   ]
  },
  {
   "cell_type": "code",
   "execution_count": 13,
   "id": "strong-soundtrack",
   "metadata": {},
   "outputs": [
    {
     "name": "stdout",
     "output_type": "stream",
     "text": [
      "Accuracy of the network on test images: 60 %\n"
     ]
    }
   ],
   "source": [
    "correct = 0\n",
    "total = 0\n",
    "for data in testloader:\n",
    "    images, labels = data\n",
    "    # calculate outputs by running images through the network\n",
    "    outputs = cnn(images)\n",
    "    # the class with the highest energy is what we choose as prediction\n",
    "    _, predicted = torch.max(outputs.data, 1)\n",
    "    total += labels.size(0)\n",
    "    correct += (predicted == labels).sum().item()\n",
    "\n",
    "print(f'Accuracy of the network on test images: {100 * correct // total} %')"
   ]
  }
 ],
 "metadata": {
  "kernelspec": {
   "display_name": "Python 3",
   "language": "python",
   "name": "python3"
  },
  "language_info": {
   "codemirror_mode": {
    "name": "ipython",
    "version": 3
   },
   "file_extension": ".py",
   "mimetype": "text/x-python",
   "name": "python",
   "nbconvert_exporter": "python",
   "pygments_lexer": "ipython3",
   "version": "3.6.9"
  }
 },
 "nbformat": 4,
 "nbformat_minor": 5
}
