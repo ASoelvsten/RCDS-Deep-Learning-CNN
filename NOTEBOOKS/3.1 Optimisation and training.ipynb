{
 "cells": [
  {
   "cell_type": "markdown",
   "id": "dutch-frontier",
   "metadata": {},
   "source": [
    "# 3.3 Optimisation and training"
   ]
  },
  {
   "cell_type": "code",
   "execution_count": null,
   "id": "devoted-rebecca",
   "metadata": {},
   "outputs": [],
   "source": []
  }
 ],
 "metadata": {
  "kernelspec": {
   "display_name": "Python 3",
   "language": "python",
   "name": "python3"
  },
  "language_info": {
   "codemirror_mode": {
    "name": "ipython",
    "version": 3
   },
   "file_extension": ".py",
   "mimetype": "text/x-python",
   "name": "python",
   "nbconvert_exporter": "python",
   "pygments_lexer": "ipython3",
   "version": "3.6.9"
  }
 },
 "nbformat": 4,
 "nbformat_minor": 5
}
