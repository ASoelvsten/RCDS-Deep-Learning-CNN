{
 "cells": [
  {
   "cell_type": "markdown",
   "id": "dutch-frontier",
   "metadata": {},
   "source": [
    "# 3.1 Optimisation and training\n",
    "\n",
    "So far, we have seen how to define a neural network, how to train it and how to test it. However, we have not really discussed how to train it _properly_: What we can do to avoid under- and overfitting? When should be stop the training loop?\n",
    "\n",
    "- [Early stopping](#Early-stopping)\n",
    "- [Hyper parameter tuning](#Hyper-parameter-tuning)\n",
    "- [Exercises](#Exercises)\n",
    "\n",
    "To decrease the training time, we settle for a simple CNN architecture and use the MNIST data set that you explored in notebook 1.2."
   ]
  },
  {
   "cell_type": "code",
   "execution_count": 1,
   "id": "devoted-rebecca",
   "metadata": {},
   "outputs": [],
   "source": [
    "import torch\n",
    "import torch.nn as nn\n",
    "import torch.optim as optim\n",
    "from torch.utils.data import DataLoader\n",
    "from torchvision import datasets, transforms\n",
    "import matplotlib.pyplot as plt\n",
    "\n",
    "# Check if a GPU is available and set the device (cf. notebook 2.2)\n",
    "device = torch.device('cuda' if torch.cuda.is_available() else 'cpu')\n",
    "\n",
    "# Define a simple CNN architecture\n",
    "class SimpleCNN(nn.Module):\n",
    "    def __init__(self):\n",
    "        super(SimpleCNN, self).__init__()\n",
    "        self.conv1 = nn.Conv2d(1, 16, kernel_size=3, stride=1, padding=1)\n",
    "        self.relu = nn.ReLU()\n",
    "        self.maxpool = nn.MaxPool2d(kernel_size=2, stride=2)\n",
    "        self.flatten = nn.Flatten()\n",
    "        self.fc = nn.Linear(16 * 14 * 14, 10)  # 10 classes for MNIST\n",
    "\n",
    "    def forward(self, x):\n",
    "        x = self.conv1(x)\n",
    "        x = self.relu(x)\n",
    "        x = self.maxpool(x)\n",
    "        x = self.flatten(x)\n",
    "        x = self.fc(x)\n",
    "        return x\n",
    "\n",
    "# Load MNIST dataset\n",
    "transform = transforms.Compose([transforms.ToTensor(), transforms.Normalize((0.5,), (0.5,))])\n",
    "train_dataset = datasets.MNIST(root='./data', train=True, transform=transform, download=True)\n",
    "test_dataset = datasets.MNIST(root='./data', train=False, transform=transform, download=True)\n",
    "\n",
    "# Define DataLoader\n",
    "train_loader = DataLoader(train_dataset, batch_size=64, shuffle=True)\n",
    "test_loader = DataLoader(test_dataset, batch_size=64, shuffle=False)"
   ]
  },
  {
   "cell_type": "markdown",
   "id": "dedicated-engineering",
   "metadata": {},
   "source": [
    "## Early stopping\n",
    "\n",
    "Rather than fixing the number of epocs that we train the model for, we trigger the training to stop early if no improvement in the validation loss is achieved within a number of consecutive epochs. We call the number of epochs during which the network waits for an improvement of the validation loss the patience."
   ]
  },
  {
   "cell_type": "code",
   "execution_count": 2,
   "id": "waiting-scotland",
   "metadata": {},
   "outputs": [],
   "source": [
    "# Function to train the model\n",
    "def train_model(model, train_loader, criterion, optimizer, num_epochs, patience):\n",
    "    model.to(device)\n",
    "    train_losses = []\n",
    "    val_losses = []\n",
    "    best_val_loss = float('inf')\n",
    "    patience_counter = 0\n",
    "\n",
    "    for epoch in range(num_epochs):\n",
    "        model.train()\n",
    "        running_loss = 0.0\n",
    "        for inputs, labels in train_loader:\n",
    "            inputs, labels = inputs.to(device), labels.to(device)\n",
    "            optimizer.zero_grad()\n",
    "            outputs = model(inputs)\n",
    "            loss = criterion(outputs, labels)\n",
    "            loss.backward()\n",
    "            optimizer.step()\n",
    "            running_loss += loss.item()\n",
    "\n",
    "        avg_train_loss = running_loss / len(train_loader)\n",
    "        train_losses.append(avg_train_loss)\n",
    "\n",
    "        # Validation loss\n",
    "        model.eval()\n",
    "        with torch.no_grad():\n",
    "            val_loss = 0.0\n",
    "            for inputs, labels in test_loader:\n",
    "                inputs, labels = inputs.to(device), labels.to(device)\n",
    "                outputs = model(inputs)\n",
    "                loss = criterion(outputs, labels)\n",
    "                val_loss += loss.item()\n",
    "\n",
    "            avg_val_loss = val_loss / len(test_loader)\n",
    "            val_losses.append(avg_val_loss)\n",
    "\n",
    "            # Early stopping\n",
    "            if avg_val_loss < best_val_loss:\n",
    "                best_val_loss = avg_val_loss\n",
    "                patience_counter = 0\n",
    "            else:\n",
    "                patience_counter += 1\n",
    "                if patience_counter >= patience:\n",
    "                    print(f'Early stopping at epoch {epoch + 1} due to no improvement in validation loss.')\n",
    "                    break\n",
    "\n",
    "        print(f'Epoch [{epoch + 1}/{num_epochs}], Train Loss: {avg_train_loss:.4f}, Val Loss: {avg_val_loss:.4f}')\n",
    "\n",
    "    return train_losses, val_losses"
   ]
  },
  {
   "cell_type": "code",
   "execution_count": 3,
   "id": "ideal-motor",
   "metadata": {},
   "outputs": [
    {
     "name": "stdout",
     "output_type": "stream",
     "text": [
      "Epoch [1/20], Train Loss: 0.2528, Val Loss: 0.1079\n",
      "Epoch [2/20], Train Loss: 0.0926, Val Loss: 0.0760\n",
      "Epoch [3/20], Train Loss: 0.0696, Val Loss: 0.0706\n",
      "Epoch [4/20], Train Loss: 0.0576, Val Loss: 0.0646\n",
      "Epoch [5/20], Train Loss: 0.0505, Val Loss: 0.0634\n",
      "Epoch [6/20], Train Loss: 0.0448, Val Loss: 0.0582\n",
      "Epoch [7/20], Train Loss: 0.0396, Val Loss: 0.0702\n",
      "Epoch [8/20], Train Loss: 0.0361, Val Loss: 0.0588\n",
      "Early stopping at epoch 9 due to no improvement in validation loss.\n"
     ]
    },
    {
     "data": {
      "image/png": "[encoded data removed]",
      "text/plain": [
       "<Figure size 432x288 with 1 Axes>"
      ]
     },
     "metadata": {
      "needs_background": "light"
     },
     "output_type": "display_data"
    }
   ],
   "source": [
    "# Instantiate the model, loss function, and optimizer\n",
    "model = SimpleCNN()\n",
    "criterion = nn.CrossEntropyLoss()\n",
    "optimizer = optim.Adam(model.parameters(), lr=0.001)\n",
    "\n",
    "# Train the model with early stopping on the GPU\n",
    "num_epochs = 20 # Maximum\n",
    "patience = 3\n",
    "train_losses, val_losses = train_model(model, train_loader, criterion, optimizer, num_epochs, patience)\n",
    "\n",
    "# Plot the training and validation loss\n",
    "plt.plot(range(1, len(train_losses) + 1), train_losses, label='Train Loss')\n",
    "plt.plot(range(1, len(val_losses) + 1), val_losses, label='Validation Loss')\n",
    "plt.xlabel('Epoch')\n",
    "plt.ylabel('Loss')\n",
    "plt.legend()\n",
    "plt.title('Training and Validation Loss Over Time')\n",
    "plt.show()"
   ]
  },
  {
   "cell_type": "markdown",
   "id": "adapted-israeli",
   "metadata": {},
   "source": [
    "## Hyper parameter tuning\n",
    "\n",
    "Until now, we have set different hyperparameters, like the learning rate, manually. But how did we choose this value? Could we have done better? Indeed, we could. We could have optimised the hyperparameter. In a nutshell, we can have repeat the analysis with different values for the hyperparameters and choose the hyperparameter combination that works best. For a neural network, we might be interested in tuning the learning rate and  changing a network layer size, i.e., adapting aspects of the architecture (see [here](https://pytorch.org/tutorials/beginner/hyperparameter_tuning_tutorial.html)). \n",
    "\n",
    "Of course, training a neural network many times to optimise the hyperparameters takes time. To keep things simple and start out with some code that runs quickly to get a better feeling of the basic concepts of hyperparameter tuning, let's start out with a simpler model. As discussed in notebook 1.3, you can also use PyTorch for linear fits, and these models train fast.\n",
    "\n",
    "If you want to perform scalable hyperparameter tuning, [RayTune](https://docs.ray.io/en/latest/tune/index.html) is a popular option for Deep Learning. Moreover, you can use gridsearch cross validation and similar algorithms, e.g., from [sklearn](https://scikit-learn.org/stable/modules/generated/sklearn.model_selection.GridSearchCV.html). To get a better understanding of what happens, however, let's write parts of one of these algorithms ourselves."
   ]
  },
  {
   "cell_type": "code",
   "execution_count": 4,
   "id": "surprising-reform",
   "metadata": {},
   "outputs": [],
   "source": [
    "from torch.utils.data import TensorDataset\n",
    "from sklearn.model_selection import KFold\n",
    "import numpy as np\n",
    "\n",
    "# PyTorch Linear Regression Model\n",
    "class LinearRegressionModel(nn.Module):\n",
    "    def __init__(self):\n",
    "        super(LinearRegressionModel, self).__init__()\n",
    "        self.linear = nn.Linear(1, 1)\n",
    "\n",
    "    def forward(self, x):\n",
    "        return self.linear(x)\n",
    "\n",
    "# Generate synthetic data\n",
    "torch.manual_seed(42)\n",
    "X = 5 * torch.randn(100, 1)\n",
    "y = 2 * X + 1 + 1.5 * torch.randn(100, 1)\n",
    "\n",
    "# Convert data to NumPy arrays\n",
    "X_np, y_np = X.numpy(), y.numpy()\n",
    "\n",
    "# Convert data to PyTorch tensors\n",
    "X_tensor, y_tensor = torch.tensor(X_np, dtype=torch.float32), torch.tensor(y_np, dtype=torch.float32)\n",
    "\n",
    "# Number of epochs (you can experiment with this)\n",
    "num_epochs = 100\n",
    "\n",
    "# Initialize the linear regression model\n",
    "model = LinearRegressionModel()\n",
    "\n",
    "# Loss function\n",
    "criterion = nn.MSELoss()"
   ]
  },
  {
   "cell_type": "markdown",
   "id": "german-immigration",
   "metadata": {},
   "source": [
    "Here, we just want to optimise a single hyperparameter, the learning rate. If you were to optimise several hyperparameters, you would have to do so _in tandem_, i.e., you _cannot_ optimise one hyperparameter then keep it fixed and then optimise another hyperparameter, you have to do all of them at the same time."
   ]
  },
  {
   "cell_type": "code",
   "execution_count": 5,
   "id": "harmful-albany",
   "metadata": {},
   "outputs": [],
   "source": [
    "# Hyperparameter search space (learning rates to try)\n",
    "learning_rates = [1e-4, 1e-3, 1e-2]"
   ]
  },
  {
   "cell_type": "markdown",
   "id": "patent-superior",
   "metadata": {},
   "source": [
    "To make better use of the data set, we split it into $k=5$ folds. We then repeat the training for each hyperparameter value $k=5$ times, using $k-1=4$ folds for training, while we withhold the last fold for validation. This approach helps assess model performance on various subsets of the data, mitigating the impact of a specific split, reducing the risk of overfitting to a single training-validation split. You can find a detailed explanation of k-fold cross validation on [scikit-learn's homepage](https://scikit-learn.org/stable/modules/cross_validation.html), where you will find the following illustration of the concept.\n",
    "\n",
    "<img src=\"https://scikit-learn.org/stable/_images/grid_search_cross_validation.png\">\n",
    "\n",
    "For each iteration of the cross validation, we need to define folds and learning rates before training. Hence, the training loop is wrapped in two other loops defining the learning rate and the training/validation data sets. "
   ]
  },
  {
   "cell_type": "code",
   "execution_count": 6,
   "id": "ancient-pennsylvania",
   "metadata": {},
   "outputs": [
    {
     "name": "stdout",
     "output_type": "stream",
     "text": [
      "Best Learning Rate: 0.001\n"
     ]
    }
   ],
   "source": [
    "# Number of folds for cross-validation\n",
    "num_folds = 5\n",
    "\n",
    "# Perform k-fold cross-validation\n",
    "kf = KFold(n_splits=num_folds, shuffle=True, random_state=42)\n",
    "\n",
    "best_lr = None\n",
    "best_loss = float('inf')\n",
    "\n",
    "# Now we lopp over the learning rates.\n",
    "for lr in learning_rates:\n",
    "    # Initialize the model for each learning rate\n",
    "    model = LinearRegressionModel()\n",
    "\n",
    "    all_val_losses = []\n",
    "    # Training loop with cross-validation\n",
    "    for train_indices, val_indices in kf.split(X_np):\n",
    "        # For each iteration of the loop, we define a training set based on 4 folds\n",
    "        X_train, y_train = X_np[train_indices], y_np[train_indices]\n",
    "        # And create a validation set based on the remaining fold\n",
    "        X_val, y_val = X_np[val_indices], y_np[val_indices]\n",
    "\n",
    "        # Since our data are numpy arrays, we need to turn them into tensors.\n",
    "        train_dataset = TensorDataset(torch.tensor(X_train, dtype=torch.float32),\n",
    "                                      torch.tensor(y_train, dtype=torch.float32))\n",
    "        val_dataset = TensorDataset(torch.tensor(X_val, dtype=torch.float32),\n",
    "                                    torch.tensor(y_val, dtype=torch.float32))\n",
    "\n",
    "        train_loader = DataLoader(train_dataset, batch_size=16, shuffle=True)\n",
    "        val_loader = DataLoader(val_dataset, batch_size=16, shuffle=False)\n",
    "\n",
    "        # We reset the learning rate in the optimiser\n",
    "        optimizer = torch.optim.SGD(model.parameters(), lr=lr)\n",
    "\n",
    "        # Now we are ready for training\n",
    "        for epoch in range(num_epochs):\n",
    "            model.train()\n",
    "            for inputs, labels in train_loader:\n",
    "                optimizer.zero_grad()\n",
    "                outputs = model(inputs)\n",
    "                loss = criterion(outputs, labels)\n",
    "                loss.backward()\n",
    "                optimizer.step()\n",
    "\n",
    "        # We go through the batches in the validation set\n",
    "        val_losses = []\n",
    "        for inputs, labels in val_loader:\n",
    "            model.eval()\n",
    "            with torch.no_grad():\n",
    "                val_loss = criterion(model(inputs), labels)\n",
    "            val_losses.append(val_loss.item())\n",
    "\n",
    "        # Average validation loss for the current fold\n",
    "        avg_val_loss_fold = sum(val_losses) / len(val_losses)\n",
    "        all_val_losses.append(avg_val_loss_fold)\n",
    "\n",
    "    # Average validation loss for present lr\n",
    "    avg_val_loss = sum(all_val_losses) / len(all_val_losses)\n",
    "\n",
    "    # Update the best learning rate if necessary\n",
    "    if avg_val_loss < best_loss:\n",
    "        best_loss = avg_val_loss\n",
    "        best_lr = lr\n",
    "\n",
    "# Print the best learning rate\n",
    "print(\"Best Learning Rate:\", best_lr)"
   ]
  },
  {
   "cell_type": "markdown",
   "id": "thousand-translation",
   "metadata": {},
   "source": [
    "Now, you have found the best value of the learning rate. But you are not done yet. While you have trained a model using the best learning rate, you trained this model using cross validation, i.e., the model didn't see the whole data set during training.... So, you should retrain the model."
   ]
  },
  {
   "cell_type": "code",
   "execution_count": 7,
   "id": "functional-exhibition",
   "metadata": {},
   "outputs": [
    {
     "data": {
      "image/png": "[encoded data removed]",
      "text/plain": [
       "<Figure size 432x288 with 1 Axes>"
      ]
     },
     "metadata": {
      "needs_background": "light"
     },
     "output_type": "display_data"
    }
   ],
   "source": [
    "# Train the model with the best learning rate on the full training set\n",
    "best_model = LinearRegressionModel()\n",
    "best_optimizer = torch.optim.SGD(best_model.parameters(), lr=best_lr)\n",
    "\n",
    "best_train_losses = []\n",
    "best_val_losses = []\n",
    "\n",
    "for epoch in range(num_epochs):\n",
    "    best_model.train()\n",
    "    for inputs, labels in train_loader:\n",
    "        best_optimizer.zero_grad()\n",
    "        outputs = best_model(inputs)\n",
    "        loss = criterion(outputs, labels)\n",
    "        loss.backward()\n",
    "        best_optimizer.step()\n",
    "\n",
    "    # Training loss\n",
    "    best_train_loss = loss.item()\n",
    "    best_train_losses.append(best_train_loss)\n",
    "\n",
    "    # Validation\n",
    "    best_model.eval()\n",
    "    with torch.no_grad():\n",
    "        val_loss = sum(criterion(best_model(inputs), labels) for inputs, labels in val_loader) / len(val_loader)\n",
    "    best_val_losses.append(val_loss.item())\n",
    "\n",
    "# Plot training and validation losses for the best model\n",
    "plt.plot(range(1, num_epochs + 1), best_train_losses, label='Training Loss', color='b')\n",
    "plt.plot(range(1, num_epochs + 1), best_val_losses, label='Validation Loss', color='r')\n",
    "plt.xlabel('Epoch')\n",
    "plt.ylabel('Loss')\n",
    "plt.title('Training and Validation Losses for the Best Model')\n",
    "plt.legend()\n",
    "plt.show()"
   ]
  },
  {
   "cell_type": "markdown",
   "id": "flying-attachment",
   "metadata": {},
   "source": [
    "## Exercises\n"
   ]
  },
  {
   "cell_type": "markdown",
   "id": "asian-venice",
   "metadata": {},
   "source": [
    "**Exercise 1**: Discuss the novel aspects in the code above.\n",
    "\n",
    "**Exercise 2**: Explain how you have to change the code for cross validation if we add a second hyperparameter that we want to optimise.\n",
    "\n",
    "**Exercise 3**: Why is cross-validation important in hyperparameter optimization?"
   ]
  },
  {
   "cell_type": "code",
   "execution_count": null,
   "id": "generous-truck",
   "metadata": {},
   "outputs": [],
   "source": []
  }
 ],
 "metadata": {
  "kernelspec": {
   "display_name": "Python 3",
   "language": "python",
   "name": "python3"
  },
  "language_info": {
   "codemirror_mode": {
    "name": "ipython",
    "version": 3
   },
   "file_extension": ".py",
   "mimetype": "text/x-python",
   "name": "python",
   "nbconvert_exporter": "python",
   "pygments_lexer": "ipython3",
   "version": "3.6.9"
  }
 },
 "nbformat": 4,
 "nbformat_minor": 5
}
