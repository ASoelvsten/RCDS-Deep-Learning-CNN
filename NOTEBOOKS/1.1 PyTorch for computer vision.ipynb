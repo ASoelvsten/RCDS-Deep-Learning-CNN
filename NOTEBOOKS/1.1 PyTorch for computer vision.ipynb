{
 "cells": [
  {
   "cell_type": "markdown",
   "id": "acceptable-access",
   "metadata": {},
   "source": [
    "# 1.1 PyTorch for Computer Vision"
   ]
  },
  {
   "cell_type": "markdown",
   "id": "funny-landing",
   "metadata": {},
   "source": [
    "In this note, we will address some of the basics commands that you will need from PyTorch in general and in computer vision in particular.\n",
    "\n",
    "- [Basic PyTorch commands](#Basic-PyTorch-commands)\n",
    "- [Computer vision data sets](#Computer-vision-data-sets)\n",
    "- [Transforms](#Transforms)\n",
    "- [Exercises](#Exercises)\n",
    "\n",
    "First, we import the required libraries. These should all be available on Google Colab."
   ]
  },
  {
   "cell_type": "code",
   "execution_count": 1,
   "id": "pleased-naples",
   "metadata": {},
   "outputs": [],
   "source": [
    "import torch # PyTorch\n",
    "import torchvision # Computer vision\n",
    "# Data sets and transforms\n",
    "from torchvision import datasets\n",
    "import torchvision.transforms as transforms\n",
    "from torch.utils.data import DataLoader\n",
    "# Other libraries\n",
    "import matplotlib.pyplot as plt\n",
    "import numpy as np"
   ]
  },
  {
   "cell_type": "markdown",
   "id": "nominated-authority",
   "metadata": {},
   "source": [
    "You can, e.g., check your PyTorch "
   ]
  },
  {
   "cell_type": "code",
   "execution_count": 2,
   "id": "configured-slope",
   "metadata": {},
   "outputs": [
    {
     "data": {
      "text/plain": [
       "'1.10.1+cu102'"
      ]
     },
     "execution_count": 2,
     "metadata": {},
     "output_type": "execute_result"
    }
   ],
   "source": [
    "torch.__version__"
   ]
  },
  {
   "cell_type": "markdown",
   "id": "crucial-trinity",
   "metadata": {},
   "source": [
    "## Basic PyTorch commands"
   ]
  },
  {
   "cell_type": "markdown",
   "id": "looking-covering",
   "metadata": {},
   "source": [
    "PyTorch has its own objects: PyTorch tensors. All data will have to be put in this format."
   ]
  },
  {
   "cell_type": "code",
   "execution_count": 3,
   "id": "desirable-equipment",
   "metadata": {},
   "outputs": [],
   "source": [
    "scalar = torch.tensor(1)\n",
    "vector = torch.tensor([1, 2])"
   ]
  },
  {
   "cell_type": "markdown",
   "id": "regional-injury",
   "metadata": {},
   "source": [
    "If you already have a tensor object, you can print different properties"
   ]
  },
  {
   "cell_type": "code",
   "execution_count": 4,
   "id": "usual-tumor",
   "metadata": {},
   "outputs": [
    {
     "name": "stdout",
     "output_type": "stream",
     "text": [
      "1 torch.Size([2]) torch.int64\n"
     ]
    }
   ],
   "source": [
    "print(vector.ndim, vector.shape,vector.dtype)"
   ]
  },
  {
   "cell_type": "markdown",
   "id": "theoretical-simon",
   "metadata": {},
   "source": [
    "Many of the commands, such as the one creating vectors with ones in each entry, mirror the corresponding commands in numpy."
   ]
  },
  {
   "cell_type": "code",
   "execution_count": 5,
   "id": "fitted-monthly",
   "metadata": {},
   "outputs": [
    {
     "name": "stdout",
     "output_type": "stream",
     "text": [
      "tensor([[0.],\n",
      "        [0.],\n",
      "        [0.]])\n",
      "tensor([[1.],\n",
      "        [1.],\n",
      "        [1.]])\n"
     ]
    }
   ],
   "source": [
    "t0 = torch.zeros(size=(3,1))\n",
    "print(t0)\n",
    "t1 = torch.ones(size=(3,1))\n",
    "print(t1)"
   ]
  },
  {
   "cell_type": "markdown",
   "id": "final-chick",
   "metadata": {},
   "source": [
    "Just like in numpy you can, for instance, easily perform element-wise multiplication, multiply a tensor with a scalar or determine the index of the entry with the maximum or minimum value."
   ]
  },
  {
   "cell_type": "code",
   "execution_count": 6,
   "id": "regulated-climate",
   "metadata": {},
   "outputs": [
    {
     "name": "stdout",
     "output_type": "stream",
     "text": [
      "tensor([10, 20])\n",
      "tensor([1, 4])\n",
      "tensor(1)\n",
      "tensor(0)\n"
     ]
    }
   ],
   "source": [
    "print(10*vector)\n",
    "print(vector*vector)\n",
    "print(vector.argmax())\n",
    "print(vector.argmin())"
   ]
  },
  {
   "cell_type": "markdown",
   "id": "dominant-artwork",
   "metadata": {},
   "source": [
    "When creating socalled batches of data in later notebooks later, we will sometimes need to be able to add a dimensions to a tensor. We thus keep the content of the data but add an empty dimension along the dimension dim."
   ]
  },
  {
   "cell_type": "code",
   "execution_count": 7,
   "id": "weighted-assignment",
   "metadata": {},
   "outputs": [
    {
     "data": {
      "text/plain": [
       "tensor([[1, 2]])"
      ]
     },
     "execution_count": 7,
     "metadata": {},
     "output_type": "execute_result"
    }
   ],
   "source": [
    "torch.unsqueeze(vector,dim=0)"
   ]
  },
  {
   "cell_type": "markdown",
   "id": "sought-retention",
   "metadata": {},
   "source": [
    "You can also turn PyTorch tensors into numpy objects"
   ]
  },
  {
   "cell_type": "code",
   "execution_count": 8,
   "id": "missing-federation",
   "metadata": {},
   "outputs": [
    {
     "data": {
      "text/plain": [
       "array([1, 2])"
      ]
     },
     "execution_count": 8,
     "metadata": {},
     "output_type": "execute_result"
    }
   ],
   "source": [
    "vector.numpy()"
   ]
  },
  {
   "cell_type": "markdown",
   "id": "sunrise-punishment",
   "metadata": {},
   "source": [
    "Or numpy objects into tensors"
   ]
  },
  {
   "cell_type": "code",
   "execution_count": 9,
   "id": "patient-problem",
   "metadata": {},
   "outputs": [
    {
     "data": {
      "text/plain": [
       "tensor([1, 2])"
      ]
     },
     "execution_count": 9,
     "metadata": {},
     "output_type": "execute_result"
    }
   ],
   "source": [
    "array = np.arange(1,3)\n",
    "torch.from_numpy(array)"
   ]
  },
  {
   "cell_type": "markdown",
   "id": "intellectual-christianity",
   "metadata": {},
   "source": [
    "For more basic PyTorch commands, see the exercises below."
   ]
  },
  {
   "cell_type": "markdown",
   "id": "ceramic-tenant",
   "metadata": {},
   "source": [
    "## Computer vision data sets"
   ]
  },
  {
   "cell_type": "markdown",
   "id": "tough-heritage",
   "metadata": {},
   "source": [
    "In this course, we will dive into Deep Learning for computer vision, i.e., we will be working with image data. Torchvision provides a long list of data sets that are commonly used for this purpose."
   ]
  },
  {
   "cell_type": "code",
   "execution_count": 10,
   "id": "improving-australian",
   "metadata": {},
   "outputs": [
    {
     "name": "stdout",
     "output_type": "stream",
     "text": [
      "('LSUN', 'LSUNClass', 'ImageFolder', 'DatasetFolder', 'FakeData', 'CocoCaptions', 'CocoDetection', 'CIFAR10', 'CIFAR100', 'EMNIST', 'FashionMNIST', 'QMNIST', 'MNIST', 'KMNIST', 'STL10', 'SVHN', 'PhotoTour', 'SEMEION', 'Omniglot', 'SBU', 'Flickr8k', 'Flickr30k', 'VOCSegmentation', 'VOCDetection', 'Cityscapes', 'ImageNet', 'Caltech101', 'Caltech256', 'CelebA', 'WIDERFace', 'SBDataset', 'VisionDataset', 'USPS', 'Kinetics400', 'Kinetics', 'HMDB51', 'UCF101', 'Places365', 'Kitti', 'INaturalist', 'LFWPeople', 'LFWPairs')\n"
     ]
    }
   ],
   "source": [
    "# Available datasets\n",
    "print(datasets.__all__)"
   ]
  },
  {
   "cell_type": "markdown",
   "id": "southern-world",
   "metadata": {},
   "source": [
    "To dowload and import the training set from the MNIST data set, we use the command"
   ]
  },
  {
   "cell_type": "code",
   "execution_count": 11,
   "id": "lonely-aviation",
   "metadata": {},
   "outputs": [],
   "source": [
    "trainset_mnist_0 = datasets.MNIST(root='./data', train=True, download=True)"
   ]
  },
  {
   "cell_type": "markdown",
   "id": "clinical-skating",
   "metadata": {},
   "source": [
    "Note that not all datasets listed above can be easily downloaded with one line of code.\n",
    "\n",
    "We can plot individual images from this data set using matplotlib. Each image is a PyTorch tensor object."
   ]
  },
  {
   "cell_type": "code",
   "execution_count": 12,
   "id": "insured-steps",
   "metadata": {},
   "outputs": [
    {
     "name": "stdout",
     "output_type": "stream",
     "text": [
      "<class 'torch.Tensor'>\n",
      "<class 'torch.Tensor'>\n",
      "<class 'torch.Tensor'>\n",
      "<class 'torch.Tensor'>\n",
      "<class 'torch.Tensor'>\n"
     ]
    },
    {
     "data": {
      "image/png": "[encoded data removed]",
      "text/plain": [
       "<Figure size 1080x216 with 5 Axes>"
      ]
     },
     "metadata": {
      "needs_background": "light"
     },
     "output_type": "display_data"
    }
   ],
   "source": [
    "fig, axes = plt.subplots(1, 5, figsize=(15, 3))\n",
    "for i in range(5):\n",
    "    img = trainset_mnist_0.data[i]\n",
    "    print(type(img))\n",
    "    axes[i].imshow(img, cmap='gray')\n",
    "    axes[i].axis('off')"
   ]
  },
  {
   "cell_type": "markdown",
   "id": "qualified-roman",
   "metadata": {},
   "source": [
    "Let's try a different data set"
   ]
  },
  {
   "cell_type": "code",
   "execution_count": 13,
   "id": "representative-spice",
   "metadata": {},
   "outputs": [
    {
     "name": "stdout",
     "output_type": "stream",
     "text": [
      "Files already downloaded and verified\n"
     ]
    }
   ],
   "source": [
    "trainset_cifar10_0 = datasets.CIFAR10(root='./data', train=True, download=True)"
   ]
  },
  {
   "cell_type": "code",
   "execution_count": 14,
   "id": "arabic-government",
   "metadata": {},
   "outputs": [
    {
     "data": {
      "image/png": "[encoded data removed]",
      "text/plain": [
       "<Figure size 1080x216 with 5 Axes>"
      ]
     },
     "metadata": {
      "needs_background": "light"
     },
     "output_type": "display_data"
    }
   ],
   "source": [
    "fig, axes = plt.subplots(1, 5, figsize=(15, 3))\n",
    "for i in range(5):\n",
    "    img = trainset_cifar10_0.data[i]\n",
    "    axes[i].imshow(img)\n",
    "    axes[i].axis('off')"
   ]
  },
  {
   "cell_type": "markdown",
   "id": "paperback-connecticut",
   "metadata": {},
   "source": [
    "## Transforms"
   ]
  },
  {
   "cell_type": "markdown",
   "id": "harmful-pharmacology",
   "metadata": {},
   "source": [
    "Before we can pass the data to our Deep Learning model, we will often have to transform it to ensure that it has the correct format. Maybe, the images are too small or too large compared to the images that we have trained our model on. It is also common practice to normalise the images before passing them to the Deep Learning model, as this approach is beneficial for convergence, stability during training and the generalisation of the network. \n",
    "\n",
    "Let's define a transform for normalisation."
   ]
  },
  {
   "cell_type": "code",
   "execution_count": 15,
   "id": "extraordinary-negative",
   "metadata": {},
   "outputs": [],
   "source": [
    "# MNIST is black and white. So, we only need one color channel. Other data sets have three \n",
    "means = (0.5)\n",
    "stds = (0.5)\n",
    "\n",
    "# Define the data transform including normalization\n",
    "transform_mnist_0 = transforms.Compose([\n",
    "    transforms.ToTensor(),  # convert to PyTorch tensor\n",
    "    transforms.Normalize(mean=means, std=stds)  # normalize images\n",
    "])\n",
    "\n",
    "# In contrast, CIFAR10 provides pictures with three channels (RGB). \n",
    "\n",
    "means10 = (0.5,0.5,0.5)\n",
    "stds10 = (0.5,0.5,0.5)\n",
    "\n",
    "# Define the data transform including normalization\n",
    "transform_cifar10_0 = transforms.Compose([\n",
    "    transforms.ToTensor(),  # Converts the image to a PyTorch tensor\n",
    "    transforms.Normalize(means10, stds10),  # Normalize to a range of -1 to 1 for three channels\n",
    "])"
   ]
  },
  {
   "cell_type": "markdown",
   "id": "centered-cliff",
   "metadata": {},
   "source": [
    "If we had defined the transform before we loaded the data, we could have applied the transform to the data right away. However, we can still do so retrospectively."
   ]
  },
  {
   "cell_type": "code",
   "execution_count": 16,
   "id": "reliable-fashion",
   "metadata": {},
   "outputs": [],
   "source": [
    "# Apply the transform to the dataset\n",
    "trainset_cifar10_0.transform = transform_cifar10_0"
   ]
  },
  {
   "cell_type": "markdown",
   "id": "thorough-nitrogen",
   "metadata": {},
   "source": [
    "We can divide the entire dataset into smaller batches, shuffle and provide an iterable interface for retrieving batches during the training process using the DataLoader class."
   ]
  },
  {
   "cell_type": "code",
   "execution_count": 17,
   "id": "variable-scoop",
   "metadata": {},
   "outputs": [],
   "source": [
    "train_loader_cifar10 = DataLoader(trainset_cifar10_0, batch_size=32, shuffle=True)"
   ]
  },
  {
   "cell_type": "markdown",
   "id": "enclosed-interview",
   "metadata": {},
   "source": [
    "If you plot the image, you can now see that the colours are a bit off because we normalised the image."
   ]
  },
  {
   "cell_type": "code",
   "execution_count": 18,
   "id": "common-drawing",
   "metadata": {},
   "outputs": [
    {
     "name": "stderr",
     "output_type": "stream",
     "text": [
      "Clipping input data to the valid range for imshow with RGB data ([0..1] for floats or [0..255] for integers).\n",
      "Clipping input data to the valid range for imshow with RGB data ([0..1] for floats or [0..255] for integers).\n",
      "Clipping input data to the valid range for imshow with RGB data ([0..1] for floats or [0..255] for integers).\n",
      "Clipping input data to the valid range for imshow with RGB data ([0..1] for floats or [0..255] for integers).\n",
      "Clipping input data to the valid range for imshow with RGB data ([0..1] for floats or [0..255] for integers).\n"
     ]
    },
    {
     "data": {
      "image/png": "[encoded data removed]",
      "text/plain": [
       "<Figure size 1080x216 with 5 Axes>"
      ]
     },
     "metadata": {
      "needs_background": "light"
     },
     "output_type": "display_data"
    }
   ],
   "source": [
    "# Get the first batch from the data loader\n",
    "dataiter = iter(train_loader_cifar10)\n",
    "images, labels = dataiter.next()\n",
    "\n",
    "fig, axes = plt.subplots(1, 5, figsize=(15, 3))\n",
    "for i in range(5):\n",
    "    img = images[i].permute(1, 2, 0)\n",
    "    axes[i].imshow(img)\n",
    "    axes[i].axis('off')"
   ]
  },
  {
   "cell_type": "markdown",
   "id": "waiting-portugal",
   "metadata": {},
   "source": [
    "We can also use transforms for image augmentation, i.e., we scale, translate or rotate the images to create new images. By doing so, we reduce overfitting and introduce scale and orientation invariance."
   ]
  },
  {
   "cell_type": "code",
   "execution_count": 19,
   "id": "greek-reading",
   "metadata": {},
   "outputs": [],
   "source": [
    "transform_mnist_1 = transforms.Compose([\n",
    "    transforms.RandomHorizontalFlip(), # Randomflip\n",
    "    transforms.RandomRotation(degrees=(-90, 90)),  # Random rotation between -30 and 30 degrees\n",
    "    transforms.ToTensor(),  # convert to PyTorch tensor\n",
    "    transforms.Normalize(mean=means, std=stds)  # normalize images\n",
    "])\n",
    "\n",
    "# Apply the transform to the dataset\n",
    "trainset_mnist_0.transform = transform_mnist_1\n",
    "train_loader_mnist = DataLoader(trainset_mnist_0, batch_size=32, shuffle=True)"
   ]
  },
  {
   "cell_type": "code",
   "execution_count": 20,
   "id": "therapeutic-istanbul",
   "metadata": {},
   "outputs": [
    {
     "data": {
      "image/png": "[encoded data removed]",
      "text/plain": [
       "<Figure size 1080x216 with 5 Axes>"
      ]
     },
     "metadata": {
      "needs_background": "light"
     },
     "output_type": "display_data"
    }
   ],
   "source": [
    "# Get the first batch from the data loader\n",
    "dataiter = iter(train_loader_mnist)\n",
    "images, labels = dataiter.next()\n",
    "\n",
    "fig, axes = plt.subplots(1, 5, figsize=(15, 3))\n",
    "for i in range(5):\n",
    "    img = images[i].permute(1, 2, 0)\n",
    "    axes[i].imshow(img, cmap=\"gray\")\n",
    "    axes[i].axis('off')"
   ]
  },
  {
   "cell_type": "markdown",
   "id": "committed-effort",
   "metadata": {},
   "source": [
    "## Exercises"
   ]
  },
  {
   "cell_type": "markdown",
   "id": "incredible-honey",
   "metadata": {},
   "source": [
    "**Exercise 1**: Find out how to transpose, stack, reshape and permute tensors. "
   ]
  },
  {
   "cell_type": "code",
   "execution_count": null,
   "id": "dangerous-module",
   "metadata": {},
   "outputs": [],
   "source": []
  },
  {
   "cell_type": "markdown",
   "id": "dominant-cambodia",
   "metadata": {},
   "source": [
    "**Exercise 2**: Construct a matrix as a PyTorch tensor. Perform matrix multiplication (cf. torch.matmul())"
   ]
  },
  {
   "cell_type": "code",
   "execution_count": null,
   "id": "guilty-encounter",
   "metadata": {},
   "outputs": [],
   "source": []
  },
  {
   "cell_type": "markdown",
   "id": "sonic-amateur",
   "metadata": {},
   "source": [
    "**Exercise 3**: Just like you can unsqueeze a tensor, you can squeeze it. Find out how and what it means."
   ]
  },
  {
   "cell_type": "code",
   "execution_count": null,
   "id": "republican-adjustment",
   "metadata": {},
   "outputs": [],
   "source": []
  },
  {
   "cell_type": "markdown",
   "id": "southern-breath",
   "metadata": {},
   "source": [
    "**Exercise 4**: Load and plot examples from another data set from torchvision."
   ]
  },
  {
   "cell_type": "code",
   "execution_count": null,
   "id": "superior-colleague",
   "metadata": {},
   "outputs": [],
   "source": []
  },
  {
   "cell_type": "markdown",
   "id": "contrary-worker",
   "metadata": {},
   "source": [
    "**Exercise 5**: In cell [18] above, where we plot the CIFAR10 images after normalisation, the colours are off. Correct for this by denormalising the picture before plotting."
   ]
  },
  {
   "cell_type": "code",
   "execution_count": null,
   "id": "split-charge",
   "metadata": {},
   "outputs": [],
   "source": []
  },
  {
   "cell_type": "markdown",
   "id": "talented-blogger",
   "metadata": {},
   "source": [
    "**Exercise 6**: Above we discuss a few transforms for data augmentation. What other transforms are there for this purpose? Write the corresponding code below."
   ]
  },
  {
   "cell_type": "code",
   "execution_count": null,
   "id": "surgical-heath",
   "metadata": {},
   "outputs": [],
   "source": []
  }
 ],
 "metadata": {
  "kernelspec": {
   "display_name": "Python 3",
   "language": "python",
   "name": "python3"
  },
  "language_info": {
   "codemirror_mode": {
    "name": "ipython",
    "version": 3
   },
   "file_extension": ".py",
   "mimetype": "text/x-python",
   "name": "python",
   "nbconvert_exporter": "python",
   "pygments_lexer": "ipython3",
   "version": "3.6.9"
  }
 },
 "nbformat": 4,
 "nbformat_minor": 5
}
