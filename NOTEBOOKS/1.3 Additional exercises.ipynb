{
 "cells": [
  {
   "cell_type": "markdown",
   "id": "liquid-idaho",
   "metadata": {},
   "source": [
    "# 1.3 Additional exercises\n",
    "\n",
    "In this notebook, we explore different coding examples and exercises to become more familiar with PyTorch. Feel free to choose those that you find most interesting.\n",
    "\n",
    "- [Gradients](#Gradients)\n",
    "- [More on tensor operations](#More-on-tensor-operations)\n",
    "- [Linear regression](#Linear-regression)\n",
    "- [Save and load models](#Save-and-load-models)"
   ]
  },
  {
   "cell_type": "markdown",
   "id": "illegal-hamburg",
   "metadata": {},
   "source": [
    "## Gradients\n",
    "\n",
    "Autograd, short for automatic differentiation, is a fundamental concept in PyTorch that enables automatic computation of gradients for tensor operations. It is a key component of PyTorch's dynamic computational graph, allowing users to easily compute gradients with respect to input tensors.\n",
    "\n",
    "**Exercise 1**: Explain the code below. What does each line of code do?"
   ]
  },
  {
   "cell_type": "code",
   "execution_count": 1,
   "id": "polyphonic-glory",
   "metadata": {},
   "outputs": [
    {
     "name": "stdout",
     "output_type": "stream",
     "text": [
      "Original Tensor (x): 2.0\n",
      "Result of the Operation (y): 11.0\n",
      "Gradient with respect to x: 7.0\n"
     ]
    }
   ],
   "source": [
    "import torch\n",
    "\n",
    "# Create a tensor with requires_grad=True\n",
    "x = torch.tensor([2.0], requires_grad=True)\n",
    "\n",
    "# Perform a mathematical operation\n",
    "y = x**2 + 3*x + 1\n",
    "\n",
    "# Compute the gradient\n",
    "y.backward()\n",
    "\n",
    "# Access the gradient\n",
    "gradient = x.grad\n",
    "\n",
    "print(\"Original Tensor (x):\", x.item())\n",
    "print(\"Result of the Operation (y):\", y.item())\n",
    "print(\"Gradient with respect to x:\", gradient.item())"
   ]
  },
  {
   "cell_type": "markdown",
   "id": "loving-coupon",
   "metadata": {},
   "source": [
    "**Exercise 2**: Compute the gradient for $y = x^2 + 3\\cdot x + 1$ for a whole range of x (from -5 to 5) and plot your results."
   ]
  },
  {
   "cell_type": "code",
   "execution_count": 2,
   "id": "fourth-bracket",
   "metadata": {},
   "outputs": [],
   "source": [
    "import torch\n",
    "import matplotlib.pyplot as plt\n",
    "\n",
    "# Create a tensor with requires_grad=True\n",
    "x_values = torch.linspace(-5, 5, 100, requires_grad=True)\n",
    "\n",
    "# Compute y, compute gradients and plot both y and dy/dx as a function of x.\n",
    "\n",
    "#[INSERT YOUR CODE HERE]"
   ]
  },
  {
   "cell_type": "markdown",
   "id": "novel-leave",
   "metadata": {},
   "source": [
    "## More on tensor operations\n",
    "\n",
    "**Exercise 3**: Have a look at more examples on PyTorch's tensors on their own [homepage](https://pytorch.org/tutorials/beginner/introyt/tensors_deeper_tutorial.html).\n",
    "\n",
    "**Exercise 4**: The code below is missing comments. Explain the code."
   ]
  },
  {
   "cell_type": "code",
   "execution_count": 3,
   "id": "transparent-louisiana",
   "metadata": {},
   "outputs": [
    {
     "name": "stdout",
     "output_type": "stream",
     "text": [
      "Original 2D Tensor:\n",
      "tensor([[1, 2, 3],\n",
      "        [4, 5, 6],\n",
      "        [7, 8, 9]])\n",
      "\n",
      "Individual Elements:\n",
      "Element at [0, 0]: 1\n",
      "Element at [1, 2]: 6\n",
      "\n",
      "Submatrices:\n",
      "Second Row: tensor([4, 5, 6])\n",
      "Third Column: tensor([3, 6, 9])\n"
     ]
    }
   ],
   "source": [
    "import torch\n",
    "\n",
    "tensor_2d = torch.tensor([[1, 2, 3],\n",
    "                          [4, 5, 6],\n",
    "                          [7, 8, 9]])\n",
    "\n",
    "print(\"Original 2D Tensor:\")\n",
    "print(tensor_2d)\n",
    "print()\n",
    "\n",
    "element_00 = tensor_2d[0, 0]\n",
    "element_12 = tensor_2d[1, 2]\n",
    "\n",
    "print(\"Individual Elements:\")\n",
    "print(\"Element at [0, 0]:\", element_00.item())\n",
    "print(\"Element at [1, 2]:\", element_12.item())\n",
    "print()\n",
    "\n",
    "submatrix_row1 = tensor_2d[1, :]\n",
    "submatrix_col2 = tensor_2d[:, 2]\n",
    "\n",
    "print(\"Submatrices:\")\n",
    "print(\"Second Row:\", submatrix_row1)\n",
    "print(\"Third Column:\", submatrix_col2)"
   ]
  },
  {
   "cell_type": "markdown",
   "id": "utility-secret",
   "metadata": {},
   "source": [
    "**Exercise 5**: Concatenate two 1D tensors along a specified dimension. Print the original tensors and the result after concatenation.\n",
    "\n",
    "**Exercise 6**: Create two tensors of the same shape and perform element-wise comparisons (e.g., greater than, equal to). Print the original tensors and the results of each comparison."
   ]
  },
  {
   "cell_type": "markdown",
   "id": "documentary-possibility",
   "metadata": {},
   "source": [
    "## Linear regression\n",
    "\n",
    "PyTorch can facilitate many other analyses and be used to create models outside of machine learning. For instance, one can use PyTorch for linear regression. Actually, all you have to do is to change the model: Rather than defining a neural network, you define a linear model. Beyond this change, the logic of the rest of the code stays the same. We assume Gaussian noise and hence try to minimise the mean squared errors rather than the cross entropy.\n",
    "\n",
    "**Exercise 7**: Discuss the code in the group. What do the different lines do an mean? Change the optimiser. Change the number of epochs. Print the loss for every epoch."
   ]
  },
  {
   "cell_type": "code",
   "execution_count": 4,
   "id": "quiet-venue",
   "metadata": {},
   "outputs": [
    {
     "data": {
      "image/png": "[encoded data removed]",
      "text/plain": [
       "<Figure size 432x288 with 1 Axes>"
      ]
     },
     "metadata": {
      "needs_background": "light"
     },
     "output_type": "display_data"
    }
   ],
   "source": [
    "import torch\n",
    "import torch.nn as nn\n",
    "import torch.optim as optim\n",
    "import numpy as np\n",
    "import matplotlib.pyplot as plt\n",
    "\n",
    "# Generate some random data for demonstration\n",
    "torch.manual_seed(42)\n",
    "X = 2 * torch.rand(100, 1)  # Random input data\n",
    "y = 3 * X + 2 + 0.5 * torch.randn(100, 1)  # Linear relation with noise\n",
    "\n",
    "# Define a simple linear regression model\n",
    "class LinearRegressionModel(nn.Module):\n",
    "    def __init__(self):\n",
    "        super(LinearRegressionModel, self).__init__()\n",
    "        self.linear = nn.Linear(1, 1)\n",
    "\n",
    "    def forward(self, x):\n",
    "        return self.linear(x)\n",
    "\n",
    "# Instantiate the model, loss function, and optimizer\n",
    "model = LinearRegressionModel()\n",
    "criterion = nn.MSELoss()  # Mean Squared Error loss\n",
    "optimizer = optim.SGD(model.parameters(), lr=0.01)  # Stochastic Gradient Descent\n",
    "\n",
    "# Training loop\n",
    "num_epochs = 100\n",
    "for epoch in range(num_epochs):\n",
    "    # Forward pass\n",
    "    predictions = model(X)\n",
    "\n",
    "    # Compute the loss\n",
    "    loss = criterion(predictions, y)\n",
    "\n",
    "    # Backward pass and optimization\n",
    "    optimizer.zero_grad()\n",
    "    loss.backward()\n",
    "    optimizer.step()\n",
    "\n",
    "# Plot the original data and the learned regression line\n",
    "plt.scatter(X.numpy(), y.numpy(), label='Original data')\n",
    "plt.plot(X.numpy(), model(X).detach().numpy(), color='red', label='Regression line')\n",
    "plt.xlabel('X')\n",
    "plt.ylabel('y')\n",
    "plt.legend()\n",
    "plt.title('Linear Regression')\n",
    "plt.show()"
   ]
  },
  {
   "cell_type": "markdown",
   "id": "ideal-permission",
   "metadata": {},
   "source": [
    "**Exercise 8**: Create a new example where you attempt to fit a parabola to a synthetic data set."
   ]
  },
  {
   "cell_type": "code",
   "execution_count": 5,
   "id": "organized-nerve",
   "metadata": {},
   "outputs": [],
   "source": [
    "import torch\n",
    "import torch.nn as nn\n",
    "import torch.optim as optim\n",
    "import numpy as np\n",
    "import matplotlib.pyplot as plt\n",
    "\n",
    "# Generate some random data for demonstration\n",
    "torch.manual_seed(42)\n",
    "X = 2 * torch.rand(100, 1)  # Random input data\n",
    "y = 2 * X**2 + 3 * X + 2 + 0.5 * torch.randn(100, 1)  # Quadratic relation with noise\n",
    "\n",
    "#[INSERT YOUR CODE HERE]"
   ]
  },
  {
   "cell_type": "markdown",
   "id": "universal-request",
   "metadata": {},
   "source": [
    "## Save and load models\n",
    "\n",
    "**Exercise 9**: Once you have created a model (be it a linear model or a neural network), you can save it to file. Later you can load it again. How do you do that in PyTorch?"
   ]
  },
  {
   "cell_type": "markdown",
   "id": "reverse-merit",
   "metadata": {},
   "source": [
    "## Logistic regression\n",
    "\n",
    "As illustrated above with the linear and quadratic fit to data, you can train other models, using PyTorch"
   ]
  },
  {
   "cell_type": "code",
   "execution_count": 6,
   "id": "wooden-jerusalem",
   "metadata": {},
   "outputs": [],
   "source": [
    "import torch\n",
    "import torch.nn as nn\n",
    "import torch.optim as optim\n",
    "import matplotlib.pyplot as plt\n",
    "\n",
    "# Generate synthetic data\n",
    "torch.manual_seed(42)\n",
    "X_positive = torch.randn(100, 2) + torch.tensor([2, 2])\n",
    "X_negative = torch.randn(100, 2) + torch.tensor([-2, -2])\n",
    "X = torch.cat([X_positive, X_negative], dim=0)\n",
    "y = torch.cat([torch.ones(100), torch.zeros(100)])\n",
    "\n",
    "# Shuffle the data\n",
    "shuffle_indices = torch.randperm(len(X))\n",
    "X = X[shuffle_indices]\n",
    "y = y[shuffle_indices]\n",
    "\n",
    "# Define a simple logistic regression model\n",
    "class LogisticRegression(nn.Module):\n",
    "    def __init__(self):\n",
    "        super(LogisticRegression, self).__init__()\n",
    "        self.linear = nn.Linear(2, 1)\n",
    "\n",
    "    def forward(self, x):\n",
    "        return torch.sigmoid(self.linear(x))\n",
    "\n",
    "# Instantiate the model, loss function, and optimizer\n",
    "model = LogisticRegression()\n",
    "criterion = nn.BCELoss()\n",
    "optimizer = optim.SGD(model.parameters(), lr=0.01)"
   ]
  },
  {
   "cell_type": "markdown",
   "id": "invalid-prefix",
   "metadata": {},
   "source": [
    "**Exercise 10**: In logistic regression, we address a binary classification task. Plot the data to get an overview of the synthetic data set. Then train the model.\n",
    "\n",
    "**Exercise 11**: Modify the synthetic data generation to introduce class imbalance (e.g., 80% negative samples and 20% positive samples). Retrain the logistic regression model and observe its performance. How do you deal with imballanced data?"
   ]
  },
  {
   "cell_type": "markdown",
   "id": "meaningful-cursor",
   "metadata": {},
   "source": [
    "## Custom loss function\n",
    "\n",
    "Rather than using an existing loss function, you can create your own."
   ]
  },
  {
   "cell_type": "code",
   "execution_count": 7,
   "id": "arabic-burke",
   "metadata": {},
   "outputs": [],
   "source": [
    "import torch\n",
    "import torch.nn as nn\n",
    "\n",
    "# Custom Loss Function\n",
    "class CustomLoss(nn.Module):\n",
    "    def __init__(self):\n",
    "        super(CustomLoss, self).__init__()\n",
    "\n",
    "    def forward(self, predictions, targets):\n",
    "        # Custom loss computation\n",
    "        loss = torch.mean((predictions - targets)**2)\n",
    "        return loss"
   ]
  },
  {
   "cell_type": "markdown",
   "id": "unknown-surgery",
   "metadata": {},
   "source": [
    "**Exercise 12**: The loss function above is just the MSE. You the custom loss function for linear regression"
   ]
  },
  {
   "cell_type": "code",
   "execution_count": 8,
   "id": "peaceful-rider",
   "metadata": {},
   "outputs": [],
   "source": [
    "import torch.optim as optim\n",
    "import matplotlib.pyplot as plt\n",
    "\n",
    "# Linear Regression Model\n",
    "class LinearRegressionModel(nn.Module):\n",
    "    def __init__(self):\n",
    "        super(LinearRegressionModel, self).__init__()\n",
    "        self.linear = nn.Linear(1, 1)\n",
    "\n",
    "    def forward(self, x):\n",
    "        return self.linear(x)\n",
    "\n",
    "# Instantiate the model, custom loss, and optimizer\n",
    "model = LinearRegressionModel()\n",
    "#[INSERT CODE HERE]\n",
    "optimizer = optim.SGD(model.parameters(), lr=0.01)\n",
    "\n",
    "# Generate synthetic data\n",
    "torch.manual_seed(42)\n",
    "inputs = torch.randn(100, 1)\n",
    "targets = 3 * inputs + 2 + 0.5 * torch.randn(100, 1)\n",
    "\n",
    "# Training loop and plot results \n",
    "#[INSERT CODE HERE]"
   ]
  },
  {
   "cell_type": "code",
   "execution_count": null,
   "id": "adjustable-hobby",
   "metadata": {},
   "outputs": [],
   "source": []
  }
 ],
 "metadata": {
  "kernelspec": {
   "display_name": "Python 3",
   "language": "python",
   "name": "python3"
  },
  "language_info": {
   "codemirror_mode": {
    "name": "ipython",
    "version": 3
   },
   "file_extension": ".py",
   "mimetype": "text/x-python",
   "name": "python",
   "nbconvert_exporter": "python",
   "pygments_lexer": "ipython3",
   "version": "3.6.9"
  }
 },
 "nbformat": 4,
 "nbformat_minor": 5
}
